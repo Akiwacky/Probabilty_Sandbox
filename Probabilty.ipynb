{
  "nbformat": 4,
  "nbformat_minor": 0,
  "metadata": {
    "colab": {
      "name": "Probabilty.ipynb",
      "provenance": [],
      "collapsed_sections": [
        "KQ59RwhFilMa",
        "PRf0WhU4itYP",
        "yJOcEQy_IDvP",
        "Xwrh9a4OJ3cG"
      ],
      "authorship_tag": "ABX9TyMT1tegSraIxqCi3rWpPf64"
    },
    "kernelspec": {
      "name": "python3",
      "display_name": "Python 3"
    },
    "language_info": {
      "name": "python"
    }
  },
  "cells": [
    {
      "cell_type": "code",
      "execution_count": 85,
      "metadata": {
        "id": "e6NCNM74XqsY"
      },
      "outputs": [],
      "source": [
        "from itertools import product \n",
        "import matplotlib.pyplot as plt\n",
        "import numpy as np"
      ]
    },
    {
      "cell_type": "markdown",
      "source": [
        "#Functions"
      ],
      "metadata": {
        "id": "T5CBzW8ZiWd2"
      }
    },
    {
      "cell_type": "markdown",
      "source": [
        "####Event detection Function \n",
        "The function iterates through the generic sample space and returns the set of outcomes where event_condition(outcome) is True."
      ],
      "metadata": {
        "id": "PM7fwzRWfnLS"
      }
    },
    {
      "cell_type": "code",
      "source": [
        "def get_matching_event(event_condition, sample_space): \n",
        "  return set([outcome for outcome in sample_space if event_condition(outcome)])\n"
      ],
      "metadata": {
        "id": "yewzEa73Z9fT"
      },
      "execution_count": 86,
      "outputs": []
    },
    {
      "cell_type": "markdown",
      "source": [
        "####Computing event probabilites Function\n",
        "The compute_probability function extracts the event associated with an inputted event condition to compute its probability."
      ],
      "metadata": {
        "id": "DiojKfZqhIYz"
      }
    },
    {
      "cell_type": "code",
      "source": [
        "def compute_probability(event_condition, generic_sample_space): \n",
        "  event = get_matching_event(event_condition, generic_sample_space) \n",
        "  return len(event) / len(generic_sample_space)\n"
      ],
      "metadata": {
        "id": "DBAb7lt4hGJT"
      },
      "execution_count": 87,
      "outputs": []
    },
    {
      "cell_type": "markdown",
      "source": [
        "####Generalized event probability function \n",
        "The function takes as input a generic_sample_ space variable that can be either a weighted dictionary or an unweighted set."
      ],
      "metadata": {
        "id": "QW02u6_Tr2Bs"
      }
    },
    {
      "cell_type": "code",
      "source": [
        "def compute_event_probability(event_condition, generic_sample_space): \n",
        "  event = get_matching_event(event_condition, generic_sample_space) \n",
        "  if type(generic_sample_space) == type(set()): \n",
        "    return len(event) / len(generic_sample_space) \n",
        "  event_size = sum(generic_sample_space[outcome] for outcome in event) \n",
        "  return event_size / sum(generic_sample_space.values())\n",
        "\n"
      ],
      "metadata": {
        "id": "VmAZtcFzZhpS"
      },
      "execution_count": 88,
      "outputs": []
    },
    {
      "cell_type": "markdown",
      "source": [
        "#Fair Coin Probability"
      ],
      "metadata": {
        "id": "T859nnAciG6I"
      }
    },
    {
      "cell_type": "markdown",
      "source": [
        "Creating a sample space of coin flips"
      ],
      "metadata": {
        "id": "JOuFd5UEePGb"
      }
    },
    {
      "cell_type": "code",
      "source": [
        "coin_sample_space = {'Heads', 'Tails'}"
      ],
      "metadata": {
        "id": "Oh4P6-4Uch39"
      },
      "execution_count": 89,
      "outputs": []
    },
    {
      "cell_type": "markdown",
      "source": [
        "Creating a sample space of coin flips"
      ],
      "metadata": {
        "id": "VXv9c_tOeQ25"
      }
    },
    {
      "cell_type": "code",
      "source": [
        "prob_heads = 1 / len(coin_sample_space)\n",
        "print(f'Probability of choosing heads is {prob_heads}')"
      ],
      "metadata": {
        "colab": {
          "base_uri": "https://localhost:8080/"
        },
        "id": "dl1XnhDAeVI8",
        "outputId": "16b8bf5c-8038-4163-f2b0-66a080654d94"
      },
      "execution_count": 90,
      "outputs": [
        {
          "output_type": "stream",
          "name": "stdout",
          "text": [
            "Probability of choosing heads is 0.5\n"
          ]
        }
      ]
    },
    {
      "cell_type": "markdown",
      "source": [
        "Defining event conditions"
      ],
      "metadata": {
        "id": "EWsg8boDfGOQ"
      }
    },
    {
      "cell_type": "code",
      "source": [
        "def is_heads_or_tails(outcome): return outcome in {'Heads', 'Tails'} \n",
        "def is_neither(outcome): return not is_heads_or_tails(outcome)\n",
        "def is_heads(outcome): return outcome == 'Heads' \n",
        "def is_tails(outcome): return outcome == 'Tails'"
      ],
      "metadata": {
        "id": "SASSsiYgfH4l"
      },
      "execution_count": 91,
      "outputs": []
    },
    {
      "cell_type": "markdown",
      "source": [
        "Detecting events using event conditions"
      ],
      "metadata": {
        "id": "FNLrfZrCgPU1"
      }
    },
    {
      "cell_type": "code",
      "source": [
        "event_conditions = [is_heads_or_tails, is_heads, is_tails, is_neither] \n",
        "\n",
        "for event_condition in event_conditions: \n",
        "  print(f\"Event Condition: {event_condition.__name__}\") \n",
        "  event = get_matching_event(event_condition, coin_sample_space) \n",
        "  print(f'Event: {event}\\n') "
      ],
      "metadata": {
        "colab": {
          "base_uri": "https://localhost:8080/"
        },
        "id": "vrJhWJAMgQlU",
        "outputId": "f6f99911-55e6-49c2-ba86-df311da63a74"
      },
      "execution_count": 92,
      "outputs": [
        {
          "output_type": "stream",
          "name": "stdout",
          "text": [
            "Event Condition: is_heads_or_tails\n",
            "Event: {'Tails', 'Heads'}\n",
            "\n",
            "Event Condition: is_heads\n",
            "Event: {'Heads'}\n",
            "\n",
            "Event Condition: is_tails\n",
            "Event: {'Tails'}\n",
            "\n",
            "Event Condition: is_neither\n",
            "Event: set()\n",
            "\n"
          ]
        }
      ]
    },
    {
      "cell_type": "code",
      "source": [
        "for event_condition in event_conditions: \n",
        "  prob = compute_probability(event_condition, coin_sample_space) \n",
        "  name = event_condition.__name__ \n",
        "  print(f\"Probability of event arising from '{name}' is {prob}\")\n"
      ],
      "metadata": {
        "colab": {
          "base_uri": "https://localhost:8080/"
        },
        "id": "u0pZgPaVhrki",
        "outputId": "614bc517-8f23-4366-e4d5-9fb2b4178793"
      },
      "execution_count": 93,
      "outputs": [
        {
          "output_type": "stream",
          "name": "stdout",
          "text": [
            "Probability of event arising from 'is_heads_or_tails' is 1.0\n",
            "Probability of event arising from 'is_heads' is 0.5\n",
            "Probability of event arising from 'is_tails' is 0.5\n",
            "Probability of event arising from 'is_neither' is 0.0\n"
          ]
        }
      ]
    },
    {
      "cell_type": "markdown",
      "source": [
        "#Analyzing a biased coin"
      ],
      "metadata": {
        "id": "KQ59RwhFilMa"
      }
    },
    {
      "cell_type": "markdown",
      "source": [
        "Representing a weighted sample space "
      ],
      "metadata": {
        "id": "NKnLA9M5i-Z-"
      }
    },
    {
      "cell_type": "code",
      "source": [
        "weighted_sample_space = {'Heads': 4, 'Tails': 1}"
      ],
      "metadata": {
        "id": "pzkkuKcFiwtk"
      },
      "execution_count": 94,
      "outputs": []
    },
    {
      "cell_type": "markdown",
      "source": [
        "Checking the weighted sample space size "
      ],
      "metadata": {
        "id": "JOccWEVxjUBa"
      }
    },
    {
      "cell_type": "code",
      "source": [
        "sample_space_size = sum(weighted_sample_space.values())\n",
        "assert sample_space_size == 5"
      ],
      "metadata": {
        "id": "F56RYUOqjRLf"
      },
      "execution_count": 95,
      "outputs": []
    },
    {
      "cell_type": "markdown",
      "source": [
        "Checking the weighted event size"
      ],
      "metadata": {
        "id": "xzdTsfMVjzh7"
      }
    },
    {
      "cell_type": "code",
      "source": [
        "event = get_matching_event(is_heads_or_tails, weighted_sample_space) \n",
        "event_size = sum(weighted_sample_space[outcome] for outcome in event) \n",
        "assert event_size == 5\n"
      ],
      "metadata": {
        "id": "xg7KnCUfj3_W"
      },
      "execution_count": 96,
      "outputs": []
    },
    {
      "cell_type": "markdown",
      "source": [
        "Computing weighted event probabilities"
      ],
      "metadata": {
        "id": "BOEpHgjQsZ71"
      }
    },
    {
      "cell_type": "code",
      "source": [
        "for event_condition in event_conditions: \n",
        "  prob = compute_event_probability(event_condition, weighted_sample_space) \n",
        "  name = event_condition.__name__ \n",
        "  print(f\"Probability of event arising from '{name}' is {prob}\")\n"
      ],
      "metadata": {
        "colab": {
          "base_uri": "https://localhost:8080/"
        },
        "id": "unEEm72YsaQ7",
        "outputId": "f1f7a8a1-da29-43d1-c66d-3ce9bb96c48f"
      },
      "execution_count": 97,
      "outputs": [
        {
          "output_type": "stream",
          "name": "stdout",
          "text": [
            "Probability of event arising from 'is_heads_or_tails' is 1.0\n",
            "Probability of event arising from 'is_heads' is 0.8\n",
            "Probability of event arising from 'is_tails' is 0.2\n",
            "Probability of event arising from 'is_neither' is 0.0\n"
          ]
        }
      ]
    },
    {
      "cell_type": "markdown",
      "source": [
        "#Analyzing a family with four children"
      ],
      "metadata": {
        "id": "PRf0WhU4itYP"
      }
    },
    {
      "cell_type": "code",
      "source": [
        "possible_children = ['Boy', 'Girl']\n",
        "sample_space = set()\n"
      ],
      "metadata": {
        "id": "jpQtfx5pX1rX"
      },
      "execution_count": 98,
      "outputs": []
    },
    {
      "cell_type": "code",
      "source": [
        "all_combinations = set(product(possible_children, repeat=4))\n",
        "sample_space = all_combinations"
      ],
      "metadata": {
        "id": "B7pK9-X8YoL7"
      },
      "execution_count": 99,
      "outputs": []
    },
    {
      "cell_type": "code",
      "source": [
        "sample_space"
      ],
      "metadata": {
        "colab": {
          "base_uri": "https://localhost:8080/"
        },
        "id": "cWYZLMRfbe3C",
        "outputId": "c57af15c-b9f1-49b6-9d49-47f41cd8d965"
      },
      "execution_count": 100,
      "outputs": [
        {
          "output_type": "execute_result",
          "data": {
            "text/plain": [
              "{('Boy', 'Boy', 'Boy', 'Boy'),\n",
              " ('Boy', 'Boy', 'Boy', 'Girl'),\n",
              " ('Boy', 'Boy', 'Girl', 'Boy'),\n",
              " ('Boy', 'Boy', 'Girl', 'Girl'),\n",
              " ('Boy', 'Girl', 'Boy', 'Boy'),\n",
              " ('Boy', 'Girl', 'Boy', 'Girl'),\n",
              " ('Boy', 'Girl', 'Girl', 'Boy'),\n",
              " ('Boy', 'Girl', 'Girl', 'Girl'),\n",
              " ('Girl', 'Boy', 'Boy', 'Boy'),\n",
              " ('Girl', 'Boy', 'Boy', 'Girl'),\n",
              " ('Girl', 'Boy', 'Girl', 'Boy'),\n",
              " ('Girl', 'Boy', 'Girl', 'Girl'),\n",
              " ('Girl', 'Girl', 'Boy', 'Boy'),\n",
              " ('Girl', 'Girl', 'Boy', 'Girl'),\n",
              " ('Girl', 'Girl', 'Girl', 'Boy'),\n",
              " ('Girl', 'Girl', 'Girl', 'Girl')}"
            ]
          },
          "metadata": {},
          "execution_count": 100
        }
      ]
    },
    {
      "cell_type": "code",
      "source": [
        "def has_two_boys(outcome):\n",
        "  return len([child for child in outcome if child == 'Boy']) == 2"
      ],
      "metadata": {
        "id": "szYbPKptY9AA"
      },
      "execution_count": 101,
      "outputs": []
    },
    {
      "cell_type": "code",
      "source": [
        "prob = compute_event_probability(has_two_boys, sample_space)\n",
        "print(f\"Probability of 2 boys is {prob}\")\n"
      ],
      "metadata": {
        "colab": {
          "base_uri": "https://localhost:8080/"
        },
        "id": "9Jae_av5aGwf",
        "outputId": "ddd2aa22-b58f-4938-f7d7-5813b6aadb74"
      },
      "execution_count": 102,
      "outputs": [
        {
          "output_type": "stream",
          "name": "stdout",
          "text": [
            "Probability of 2 boys is 0.375\n"
          ]
        }
      ]
    },
    {
      "cell_type": "markdown",
      "source": [
        "#Analyzing mulitple die rolls "
      ],
      "metadata": {
        "id": "yJOcEQy_IDvP"
      }
    },
    {
      "cell_type": "code",
      "source": [
        "possible_rolls = list(range(1,7))\n",
        "print(possible_rolls)"
      ],
      "metadata": {
        "colab": {
          "base_uri": "https://localhost:8080/"
        },
        "id": "e2c16-nTIJcJ",
        "outputId": "0f80563b-ead0-4f4d-8672-b42e36c780bd"
      },
      "execution_count": 103,
      "outputs": [
        {
          "output_type": "stream",
          "name": "stdout",
          "text": [
            "[1, 2, 3, 4, 5, 6]\n"
          ]
        }
      ]
    },
    {
      "cell_type": "code",
      "source": [
        "die_sample_space = set(product(possible_rolls, repeat=6))"
      ],
      "metadata": {
        "id": "KJ805kSJIbql"
      },
      "execution_count": 104,
      "outputs": []
    },
    {
      "cell_type": "code",
      "source": [
        "def has_sum_of_21(outcome): return sum(outcome) == 21"
      ],
      "metadata": {
        "id": "G-viPqxhIrLv"
      },
      "execution_count": 105,
      "outputs": []
    },
    {
      "cell_type": "code",
      "source": [
        "prob = compute_event_probability(has_sum_of_21, die_sample_space)\n",
        "print(f\"6 rolls sum to 21 with a probability of {prob}\")"
      ],
      "metadata": {
        "colab": {
          "base_uri": "https://localhost:8080/"
        },
        "id": "8DP9h55qI1px",
        "outputId": "360a08f8-5f5c-4461-ced5-8cdf350f3972"
      },
      "execution_count": 106,
      "outputs": [
        {
          "output_type": "stream",
          "name": "stdout",
          "text": [
            "6 rolls sum to 21 with a probability of 0.09284979423868313\n"
          ]
        }
      ]
    },
    {
      "cell_type": "code",
      "source": [
        "prob = compute_event_probability(lambda x: sum(x) == 21, die_sample_space)\n",
        "assert prob == compute_event_probability(has_sum_of_21, die_sample_space)"
      ],
      "metadata": {
        "id": "JbxrZ0OeJo_p"
      },
      "execution_count": 107,
      "outputs": []
    },
    {
      "cell_type": "markdown",
      "source": [
        "#Computing die-roll probabilites using weighted sample spaces"
      ],
      "metadata": {
        "id": "Xwrh9a4OJ3cG"
      }
    },
    {
      "cell_type": "code",
      "source": [
        "from collections import defaultdict \n",
        "weighted_die_sample_space = defaultdict(int)\n",
        "for outcome in die_sample_space:\n",
        "  total = sum(outcome)\n",
        "  weighted_die_sample_space[total] += 1"
      ],
      "metadata": {
        "id": "-906GwV7J9wI"
      },
      "execution_count": 108,
      "outputs": []
    },
    {
      "cell_type": "code",
      "source": [
        "weighted_die_sample_space "
      ],
      "metadata": {
        "colab": {
          "base_uri": "https://localhost:8080/"
        },
        "id": "XMN4vaVLOpj5",
        "outputId": "4a675a39-584c-41e1-f523-c62b65728836"
      },
      "execution_count": 109,
      "outputs": [
        {
          "output_type": "execute_result",
          "data": {
            "text/plain": [
              "defaultdict(int,\n",
              "            {6: 1,\n",
              "             7: 6,\n",
              "             8: 21,\n",
              "             9: 56,\n",
              "             10: 126,\n",
              "             11: 252,\n",
              "             12: 456,\n",
              "             13: 756,\n",
              "             14: 1161,\n",
              "             15: 1666,\n",
              "             16: 2247,\n",
              "             17: 2856,\n",
              "             18: 3431,\n",
              "             19: 3906,\n",
              "             20: 4221,\n",
              "             21: 4332,\n",
              "             22: 4221,\n",
              "             23: 3906,\n",
              "             24: 3431,\n",
              "             25: 2856,\n",
              "             26: 2247,\n",
              "             27: 1666,\n",
              "             28: 1161,\n",
              "             29: 756,\n",
              "             30: 456,\n",
              "             31: 252,\n",
              "             32: 126,\n",
              "             33: 56,\n",
              "             34: 21,\n",
              "             35: 6,\n",
              "             36: 1})"
            ]
          },
          "metadata": {},
          "execution_count": 109
        }
      ]
    },
    {
      "cell_type": "markdown",
      "source": [
        "Checking a more common die-roll combination"
      ],
      "metadata": {
        "id": "Wz2EZ4rCRii7"
      }
    },
    {
      "cell_type": "code",
      "source": [
        "num_combinations = weighted_die_sample_space[21] \n",
        "print(f\"There are {num_combinations } ways for 6 die rolls to sum to 21\")"
      ],
      "metadata": {
        "colab": {
          "base_uri": "https://localhost:8080/"
        },
        "id": "KWuNsUSaO76r",
        "outputId": "9ed53be3-551c-4531-e464-61647fbbc396"
      },
      "execution_count": 110,
      "outputs": [
        {
          "output_type": "stream",
          "name": "stdout",
          "text": [
            "There are 4332 ways for 6 die rolls to sum to 21\n"
          ]
        }
      ]
    },
    {
      "cell_type": "markdown",
      "source": [
        "Comparing weighted events and regular events"
      ],
      "metadata": {
        "id": "SNBER_24RYtn"
      }
    },
    {
      "cell_type": "code",
      "source": [
        "event = get_matching_event(lambda x: sum(x) == 21, die_sample_space) \n",
        "assert weighted_die_sample_space[21] == len(event) \n",
        "assert sum(weighted_die_sample_space.values()) == len(die_sample_space)"
      ],
      "metadata": {
        "id": "eigW_VmpPtkA"
      },
      "execution_count": 111,
      "outputs": []
    },
    {
      "cell_type": "markdown",
      "source": [
        "Computing the weighted event probability of die rolls\n"
      ],
      "metadata": {
        "id": "kF9ce0sHRTKp"
      }
    },
    {
      "cell_type": "code",
      "source": [
        "prob = compute_event_probability(lambda x: x == 21, weighted_die_sample_space) \n",
        "assert prob == compute_event_probability(has_sum_of_21, die_sample_space) \n",
        "print(f\"6 rolls sum to 21 with a probability of {prob}\")"
      ],
      "metadata": {
        "colab": {
          "base_uri": "https://localhost:8080/"
        },
        "id": "DsZR8etfQF7I",
        "outputId": "b7890772-0507-40f6-a725-70e7fb8c031d"
      },
      "execution_count": 112,
      "outputs": [
        {
          "output_type": "stream",
          "name": "stdout",
          "text": [
            "6 rolls sum to 21 with a probability of 0.09284979423868313\n"
          ]
        }
      ]
    },
    {
      "cell_type": "markdown",
      "source": [
        "Comparing weighted to unweighted event space size"
      ],
      "metadata": {
        "id": "3kQXtHpYROKq"
      }
    },
    {
      "cell_type": "code",
      "source": [
        "print('Number of Elements in Unweighted Sample Space:') \n",
        "print(len(die_sample_space)) \n",
        "print('Number of Elements in Weighted Sample Space:') \n",
        "print(len(weighted_die_sample_space))"
      ],
      "metadata": {
        "colab": {
          "base_uri": "https://localhost:8080/"
        },
        "id": "Yo1LXxvTQ7w3",
        "outputId": "2df39303-d15d-4789-eb60-12002164a5ec"
      },
      "execution_count": 113,
      "outputs": [
        {
          "output_type": "stream",
          "name": "stdout",
          "text": [
            "Number of Elements in Unweighted Sample Space:\n",
            "46656\n",
            "Number of Elements in Weighted Sample Space:\n",
            "31\n"
          ]
        }
      ]
    },
    {
      "cell_type": "markdown",
      "source": [
        "#Computing probabilites over interval ranges"
      ],
      "metadata": {
        "id": "rnGKV_2yRuUr"
      }
    },
    {
      "cell_type": "code",
      "source": [
        "#defining an interval function \n",
        "def is_in_interval(number, minimum, maximum):\n",
        "  return minimum <= number <= maximum"
      ],
      "metadata": {
        "id": "r_PUPkX_RznN"
      },
      "execution_count": 114,
      "outputs": []
    },
    {
      "cell_type": "markdown",
      "source": [
        "Computing the probability over an interval"
      ],
      "metadata": {
        "id": "Wem2VVXqSj5o"
      }
    },
    {
      "cell_type": "code",
      "source": [
        "prob = compute_event_probability(lambda x: is_in_interval(x, 10, 21), weighted_die_sample_space)\n",
        "print(f\"probability of interval is {prob}\")"
      ],
      "metadata": {
        "colab": {
          "base_uri": "https://localhost:8080/"
        },
        "id": "KONpXnvhShZj",
        "outputId": "5bd014a1-8e22-4483-b946-c85e9e41422c"
      },
      "execution_count": 115,
      "outputs": [
        {
          "output_type": "stream",
          "name": "stdout",
          "text": [
            "probability of interval is 0.5446244855967078\n"
          ]
        }
      ]
    },
    {
      "cell_type": "markdown",
      "source": [
        "Computing the sample space for 10 coin flips"
      ],
      "metadata": {
        "id": "4nkPXUFGTtb6"
      }
    },
    {
      "cell_type": "code",
      "source": [
        "def generate_coin_sample_space(num_flips=10): \n",
        "  weighted_sample_space = defaultdict(int) \n",
        "  for coin_flips in product(['Heads', 'Tails'], repeat=num_flips): \n",
        "    heads_count = len([outcome for outcome in coin_flips if outcome == 'Heads']) \n",
        "    weighted_sample_space[heads_count] += 1 \n",
        "  return weighted_sample_space \n",
        "  \n",
        "weighted_sample_space = generate_coin_sample_space() \n",
        "assert weighted_sample_space[10] == 1 \n",
        "assert weighted_sample_space[9] == 10"
      ],
      "metadata": {
        "id": "wcOqlsD9VrMZ"
      },
      "execution_count": 116,
      "outputs": []
    },
    {
      "cell_type": "markdown",
      "source": [
        "Computing an extreme head-count probability"
      ],
      "metadata": {
        "id": "QJKExLB5WkGz"
      }
    },
    {
      "cell_type": "code",
      "source": [
        "prob = compute_event_probability(lambda x: is_in_interval(x, 8, 10), weighted_sample_space) \n",
        "print(f\"Probability of observing more than 7 heads is {prob}\") \n"
      ],
      "metadata": {
        "colab": {
          "base_uri": "https://localhost:8080/"
        },
        "id": "OkNaGLhVWPNq",
        "outputId": "1f0d6cc5-c533-457f-a177-6806e9330b2b"
      },
      "execution_count": 117,
      "outputs": [
        {
          "output_type": "stream",
          "name": "stdout",
          "text": [
            "Probability of observing more than 7 heads is 0.0546875\n"
          ]
        }
      ]
    },
    {
      "cell_type": "markdown",
      "source": [
        "Computing an extreme interval probability"
      ],
      "metadata": {
        "id": "ulSQ-uqJXFgL"
      }
    },
    {
      "cell_type": "code",
      "source": [
        "prob = compute_event_probability(lambda x: not is_in_interval(x, 3, 7), weighted_sample_space) \n",
        "print(f\"Probability of observing more than 7 heads or 7 tails is {prob}\")"
      ],
      "metadata": {
        "colab": {
          "base_uri": "https://localhost:8080/"
        },
        "id": "z0mIiagHXExI",
        "outputId": "8894391a-64fa-4150-97b4-3e7ab5da2030"
      },
      "execution_count": 118,
      "outputs": [
        {
          "output_type": "stream",
          "name": "stdout",
          "text": [
            "Probability of observing more than 7 heads or 7 tails is 0.109375\n"
          ]
        }
      ]
    },
    {
      "cell_type": "markdown",
      "source": [
        "Analyzing extreme head counts for 20 fair coin flips"
      ],
      "metadata": {
        "id": "uhryPqa0XhFM"
      }
    },
    {
      "cell_type": "code",
      "source": [
        "weighted_sample_space_20_flips = generate_coin_sample_space(num_flips=20) \n",
        "prob = compute_event_probability(lambda x: not is_in_interval(x, 5, 15), weighted_sample_space_20_flips) \n",
        "print(f\"Probability of observing more than 15 heads or 15 tails is {prob}\")"
      ],
      "metadata": {
        "colab": {
          "base_uri": "https://localhost:8080/"
        },
        "id": "8xgRN1IoXh1U",
        "outputId": "1b971efa-becf-43af-b3e0-2a21f2c7cd3a"
      },
      "execution_count": 119,
      "outputs": [
        {
          "output_type": "stream",
          "name": "stdout",
          "text": [
            "Probability of observing more than 15 heads or 15 tails is 0.01181793212890625\n"
          ]
        }
      ]
    },
    {
      "cell_type": "markdown",
      "source": [
        "#Plotting Probabilites"
      ],
      "metadata": {
        "id": "U_nynaA_YWK-"
      }
    },
    {
      "cell_type": "code",
      "source": [
        "x_10_flips = list(weighted_sample_space.keys()) \n",
        "y_10_flips = [weighted_sample_space[key] for key in x_10_flips] \n",
        "plt.scatter(x_10_flips, y_10_flips) \n",
        "plt.xlabel('Head-count') \n",
        "plt.ylabel('Number of coin-flip combinations with x heads') \n",
        "plt.show()"
      ],
      "metadata": {
        "id": "VhqFmGFwYaar",
        "colab": {
          "base_uri": "https://localhost:8080/",
          "height": 287
        },
        "outputId": "0c2303b5-57c8-4263-ecae-f689bbd21676"
      },
      "execution_count": 120,
      "outputs": [
        {
          "output_type": "display_data",
          "data": {
            "text/plain": [
              "<Figure size 432x288 with 1 Axes>"
            ],
            "image/png": "[encoded data removed]"
          },
          "metadata": {
            "needs_background": "light"
          }
        }
      ]
    },
    {
      "cell_type": "code",
      "source": [
        "sample_space_size = sum(weighted_sample_space.values()) \n",
        "prob_x_10_flips = [value / sample_space_size for value in y_10_flips] \n",
        "plt.scatter(x_10_flips, prob_x_10_flips) \n",
        "plt.xlabel('Head-count') \n",
        "plt.ylabel('Probability') \n",
        "plt.show()"
      ],
      "metadata": {
        "colab": {
          "base_uri": "https://localhost:8080/",
          "height": 279
        },
        "id": "wYCzvjT1YkcU",
        "outputId": "e675b4e7-0a27-4d73-c6dc-0ce983880325"
      },
      "execution_count": 121,
      "outputs": [
        {
          "output_type": "display_data",
          "data": {
            "text/plain": [
              "<Figure size 432x288 with 1 Axes>"
            ],
            "image/png": "[encoded data removed]"
          },
          "metadata": {
            "needs_background": "light"
          }
        }
      ]
    },
    {
      "cell_type": "code",
      "source": [
        "plt.plot(x_10_flips, prob_x_10_flips) \n",
        "plt.scatter(x_10_flips, prob_x_10_flips) \n",
        "where = [is_in_interval(value, 8, 10) for value in x_10_flips]\n",
        "plt.fill_between(x_10_flips, prob_x_10_flips, where=where) \n",
        "plt.xlabel('Head-count') \n",
        "plt.ylabel('Probability') \n",
        "plt.show()"
      ],
      "metadata": {
        "colab": {
          "base_uri": "https://localhost:8080/",
          "height": 279
        },
        "id": "9QMv8VWbWKJK",
        "outputId": "5ea55a97-5796-4566-a738-47b0349d0fbc"
      },
      "execution_count": 122,
      "outputs": [
        {
          "output_type": "display_data",
          "data": {
            "text/plain": [
              "<Figure size 432x288 with 1 Axes>"
            ],
            "image/png": "[encoded data removed]"
          },
          "metadata": {
            "needs_background": "light"
          }
        }
      ]
    },
    {
      "cell_type": "code",
      "source": [
        "plt.plot(x_10_flips, prob_x_10_flips) \n",
        "plt.scatter(x_10_flips, prob_x_10_flips) \n",
        "where = [not is_in_interval(value, 3, 7) for value in x_10_flips]\n",
        "plt.fill_between(x_10_flips, prob_x_10_flips, where=where) \n",
        "plt.xlabel('Head-count') \n",
        "plt.ylabel('Probability') \n",
        "plt.show()"
      ],
      "metadata": {
        "colab": {
          "base_uri": "https://localhost:8080/",
          "height": 279
        },
        "id": "s2DHIKDQZG7d",
        "outputId": "d076569b-e995-41ad-b30c-7da529f2b5b1"
      },
      "execution_count": 123,
      "outputs": [
        {
          "output_type": "display_data",
          "data": {
            "text/plain": [
              "<Figure size 432x288 with 1 Axes>"
            ],
            "image/png": "[encoded data removed]"
          },
          "metadata": {
            "needs_background": "light"
          }
        }
      ]
    },
    {
      "cell_type": "markdown",
      "source": [
        "Comparing multiple coin-flip probability distributions\n"
      ],
      "metadata": {
        "id": "XEdodH93Z1aJ"
      }
    },
    {
      "cell_type": "code",
      "source": [
        "# Computing probabilities for a 20-coin-flip distribution\n",
        "x_20_flips = list(weighted_sample_space_20_flips.keys()) \n",
        "y_20_flips = [weighted_sample_space_20_flips[key] for key in x_20_flips] \n",
        "sample_space_size = sum(weighted_sample_space_20_flips.values()) \n",
        "prob_x_20_flips = [value / sample_space_size for value in y_20_flips]"
      ],
      "metadata": {
        "id": "-9vwLyKsZ40-"
      },
      "execution_count": 124,
      "outputs": []
    },
    {
      "cell_type": "code",
      "source": [
        "# Plotting two simultaneous distributions\n",
        "plt.plot(x_10_flips, prob_x_10_flips, label='A: 10 coin-flips') \n",
        "plt.scatter(x_10_flips, prob_x_10_flips) \n",
        "plt.plot(x_20_flips, prob_x_20_flips, color='black', linestyle='--', label='B: 20 coin-flips') \n",
        "plt.scatter(x_20_flips, prob_x_20_flips, color='k', marker='x') \n",
        "plt.xlabel('Head-count') \n",
        "plt.ylabel('Probability') \n",
        "plt.legend() \n",
        "plt.show()"
      ],
      "metadata": {
        "colab": {
          "base_uri": "https://localhost:8080/",
          "height": 279
        },
        "id": "hxyenYIPabfR",
        "outputId": "5bd105cb-6ed2-400c-c191-d0d3bd07f093"
      },
      "execution_count": 125,
      "outputs": [
        {
          "output_type": "display_data",
          "data": {
            "text/plain": [
              "<Figure size 432x288 with 1 Axes>"
            ],
            "image/png": "[encoded data removed]"
          },
          "metadata": {
            "needs_background": "light"
          }
        }
      ]
    },
    {
      "cell_type": "markdown",
      "source": [
        "Highlighting intervals beneath two plotted distributions"
      ],
      "metadata": {
        "id": "d8JN7ZsabAUY"
      }
    },
    {
      "cell_type": "code",
      "source": [
        "plt.plot(x_10_flips, prob_x_10_flips, label='A: 10 coin-flips') \n",
        "plt.plot(x_20_flips, prob_x_20_flips, color='k', linestyle=':', label='B: 20 coin-flips') \n",
        "where_10 = [not is_in_interval(value, 3, 7) for value in x_10_flips] \n",
        "plt.fill_between(x_10_flips, prob_x_10_flips, where=where_10) \n",
        "where_20 = [not is_in_interval(value, 5, 15) for value in x_20_flips] \n",
        "plt.fill_between(x_20_flips, prob_x_20_flips, where=where_20) \n",
        "plt.xlabel('Head-Count') \n",
        "plt.ylabel('Probability') \n",
        "plt.legend() \n",
        "plt.show()"
      ],
      "metadata": {
        "colab": {
          "base_uri": "https://localhost:8080/",
          "height": 279
        },
        "id": "zu3NQNW-bB7p",
        "outputId": "ef2d1b60-8059-495c-b257-b02887e15644"
      },
      "execution_count": 126,
      "outputs": [
        {
          "output_type": "display_data",
          "data": {
            "text/plain": [
              "<Figure size 432x288 with 1 Axes>"
            ],
            "image/png": "[encoded data removed]"
          },
          "metadata": {
            "needs_background": "light"
          }
        }
      ]
    },
    {
      "cell_type": "markdown",
      "source": [
        "Converting head counts into frequencies"
      ],
      "metadata": {
        "id": "QCDayCf0bwlq"
      }
    },
    {
      "cell_type": "code",
      "source": [
        "x_10_frequencies = [head_count /10 for head_count in x_10_flips] \n",
        "x_20_frequencies = [head_count /20 for head_count in x_20_flips] \n",
        "plt.plot(x_10_frequencies, prob_x_10_flips, label='A: 10 coin-flips') \n",
        "plt.plot(x_20_frequencies, prob_x_20_flips, color='k', linestyle=':', label='B: 20 coin-flips') \n",
        "plt.legend() \n",
        "plt.xlabel('Head-Frequency') \n",
        "plt.ylabel('Probability') \n",
        "plt.show()"
      ],
      "metadata": {
        "colab": {
          "base_uri": "https://localhost:8080/",
          "height": 279
        },
        "id": "-wnlf742bv8e",
        "outputId": "d7189b1a-fbc1-4e37-b3ef-56859d408a09"
      },
      "execution_count": 127,
      "outputs": [
        {
          "output_type": "display_data",
          "data": {
            "text/plain": [
              "<Figure size 432x288 with 1 Axes>"
            ],
            "image/png": "[encoded data removed]"
          },
          "metadata": {
            "needs_background": "light"
          }
        }
      ]
    },
    {
      "cell_type": "markdown",
      "source": [
        "Computing relative likelihoods of frequencies"
      ],
      "metadata": {
        "id": "FGdcAjZjcpK7"
      }
    },
    {
      "cell_type": "code",
      "source": [
        "relative_likelihood_10 = [10 * prob for prob in prob_x_10_flips] \n",
        "relative_likelihood_20 = [20 * prob for prob in prob_x_20_flips]"
      ],
      "metadata": {
        "id": "Oz3Ll5cdcp_U"
      },
      "execution_count": 128,
      "outputs": []
    },
    {
      "cell_type": "code",
      "source": [
        "plt.plot(x_10_frequencies, relative_likelihood_10, label='A: 10 coin-flips') \n",
        "plt.plot(x_20_frequencies, relative_likelihood_20, color='k', linestyle=':', label='B: 20 coin-flips') \n",
        "plt.fill_between(x_10_frequencies, relative_likelihood_10, where=where_10) \n",
        "plt.fill_between(x_20_frequencies, relative_likelihood_20, where=where_20) \n",
        "plt.legend() \n",
        "plt.xlabel('Head-Frequency') \n",
        "plt.ylabel('Relative Likelihood') \n",
        "plt.show()"
      ],
      "metadata": {
        "colab": {
          "base_uri": "https://localhost:8080/",
          "height": 279
        },
        "id": "nWhwsTXVc0bO",
        "outputId": "c52c5959-72fb-4f70-f3e5-17a8c88eeb6e"
      },
      "execution_count": 129,
      "outputs": [
        {
          "output_type": "display_data",
          "data": {
            "text/plain": [
              "<Figure size 432x288 with 1 Axes>"
            ],
            "image/png": "[encoded data removed]"
          },
          "metadata": {
            "needs_background": "light"
          }
        }
      ]
    },
    {
      "cell_type": "markdown",
      "source": [
        "# Random Simulations"
      ],
      "metadata": {
        "id": "HrPT6uQrf4Le"
      }
    },
    {
      "cell_type": "markdown",
      "source": [
        "Simulating 10 fair coin flips"
      ],
      "metadata": {
        "id": "QapB7-R21xJ5"
      }
    },
    {
      "cell_type": "code",
      "source": [
        "np.random.seed(0) \n",
        "def frequency_heads(coin_flip_sequence): \n",
        "  total_heads = len([head for head in coin_flip_sequence if head == 1]) \n",
        "  return total_heads / len(coin_flip_sequence) \n",
        "  \n",
        "coin_flips = [np.random.randint(0, 2) for _ in range(10)] \n",
        "freq_heads = frequency_heads(coin_flips) \n",
        "print(f\"Frequency of Heads is {freq_heads}\")"
      ],
      "metadata": {
        "id": "ZFI72XfMf89u",
        "colab": {
          "base_uri": "https://localhost:8080/"
        },
        "outputId": "5b07e3c0-c894-4f15-cb34-0cb259aeb1ba"
      },
      "execution_count": 130,
      "outputs": [
        {
          "output_type": "stream",
          "name": "stdout",
          "text": [
            "Frequency of Heads is 0.8\n"
          ]
        }
      ]
    },
    {
      "cell_type": "markdown",
      "source": [
        "Plotting simulated fair coin-flip frequencies"
      ],
      "metadata": {
        "id": "M_SxQ6ox2dRy"
      }
    },
    {
      "cell_type": "code",
      "source": [
        "np.random.seed(0) \n",
        "coin_flips = [] \n",
        "frequencies = [] \n",
        "for _ in range(1000): \n",
        "  coin_flips.append(np.random.randint(0, 2)) \n",
        "  frequencies.append(frequency_heads(coin_flips)) \n",
        "\n",
        "plt.plot(list(range(1000)), frequencies) \n",
        "plt.axhline(0.5, color='k') \n",
        "plt.xlabel('Number of Coin Flips') \n",
        "plt.ylabel('Head-Frequency') \n",
        "plt.show()"
      ],
      "metadata": {
        "colab": {
          "base_uri": "https://localhost:8080/",
          "height": 279
        },
        "id": "qQ-3B3jO2cU7",
        "outputId": "076b2bb0-f0f0-4e8f-c63f-e374d85f1c23"
      },
      "execution_count": 131,
      "outputs": [
        {
          "output_type": "display_data",
          "data": {
            "text/plain": [
              "<Figure size 432x288 with 1 Axes>"
            ],
            "image/png": "[encoded data removed]"
          },
          "metadata": {
            "needs_background": "light"
          }
        }
      ]
    },
    {
      "cell_type": "markdown",
      "source": [
        "Simulating biased coin flips"
      ],
      "metadata": {
        "id": "irQxa5xi5NNq"
      }
    },
    {
      "cell_type": "code",
      "source": [
        "np.random.seed(0) \n",
        "print(\"Let's flip the biased coin once.\") \n",
        "coin_flip = np.random.binomial(1, 0.7) \n",
        "print(f\"Biased coin landed on {'heads' if coin_flip == 1 else 'tails'}.\") \n",
        "print(\"\\nLet's flip the biased coin 10 times.\") \n",
        "number_coin_flips = 10 \n",
        "head_count = np.random.binomial(number_coin_flips, .7) \n",
        "print((f\"{head_count} heads were observed out of \" f\"{number_coin_flips} biased coin flips\"))"
      ],
      "metadata": {
        "colab": {
          "base_uri": "https://localhost:8080/"
        },
        "id": "4xKdELT-2_1n",
        "outputId": "909b0135-5970-4864-b349-c1d892e4aefb"
      },
      "execution_count": 132,
      "outputs": [
        {
          "output_type": "stream",
          "name": "stdout",
          "text": [
            "Let's flip the biased coin once.\n",
            "Biased coin landed on heads.\n",
            "\n",
            "Let's flip the biased coin 10 times.\n",
            "6 heads were observed out of 10 biased coin flips\n"
          ]
        }
      ]
    },
    {
      "cell_type": "markdown",
      "source": [
        "Computing coin-flip-frequency convergence\n",
        "\n",
        "(Page 37). "
      ],
      "metadata": {
        "id": "nEuOXdSY5xTf"
      }
    },
    {
      "cell_type": "code",
      "source": [
        "np.random.seed(0) \n",
        "head_count = np.random.binomial(1000, 0.7) \n",
        "frequency = head_count / 1000 \n",
        "print(f\"Frequency of Heads is {frequency}\")"
      ],
      "metadata": {
        "colab": {
          "base_uri": "https://localhost:8080/"
        },
        "id": "mGg9zLlc5zS3",
        "outputId": "1abaefa0-b35e-4253-ebdf-2a37beb389c9"
      },
      "execution_count": 133,
      "outputs": [
        {
          "output_type": "stream",
          "name": "stdout",
          "text": [
            "Frequency of Heads is 0.697\n"
          ]
        }
      ]
    },
    {
      "cell_type": "code",
      "source": [
        "np.random.seed(0) \n",
        "assert np.random.binomial(1000, 0.7) / 1000 == 0.697 \n",
        "for i in range(1, 6): \n",
        "  head_count = np.random.binomial(1000, 0.7) \n",
        "  frequency = head_count / 1000 \n",
        "  print(f\"Frequency at iteration {i} is {frequency}\") \n",
        "  if frequency == 0.7: \n",
        "    print(\"Frequency equals the probability!\\n\")"
      ],
      "metadata": {
        "colab": {
          "base_uri": "https://localhost:8080/"
        },
        "id": "SYBA73BZ6C8D",
        "outputId": "e8b55e9b-54db-431f-d04f-f7f4d7207cb5"
      },
      "execution_count": 134,
      "outputs": [
        {
          "output_type": "stream",
          "name": "stdout",
          "text": [
            "Frequency at iteration 1 is 0.69\n",
            "Frequency at iteration 2 is 0.7\n",
            "Frequency equals the probability!\n",
            "\n",
            "Frequency at iteration 3 is 0.707\n",
            "Frequency at iteration 4 is 0.702\n",
            "Frequency at iteration 5 is 0.699\n"
          ]
        }
      ]
    },
    {
      "cell_type": "markdown",
      "source": [
        "Computing confidence intervals using histograms and NumPy arrays "
      ],
      "metadata": {
        "id": "3EpmsmQ56_pu"
      }
    },
    {
      "cell_type": "code",
      "source": [
        "np.random.seed(0) \n",
        "head_count_array = np.random.binomial(1000, 0.7, 500)\n",
        "frequency_array = head_count_array / 1000"
      ],
      "metadata": {
        "id": "Nf8DuOxY7CDT"
      },
      "execution_count": 135,
      "outputs": []
    },
    {
      "cell_type": "code",
      "source": [
        "frequency_array[:20]"
      ],
      "metadata": {
        "colab": {
          "base_uri": "https://localhost:8080/"
        },
        "id": "6vASuJu69g-R",
        "outputId": "9a50d987-00f7-4938-e11c-29c9d4de5952"
      },
      "execution_count": 136,
      "outputs": [
        {
          "output_type": "execute_result",
          "data": {
            "text/plain": [
              "array([0.697, 0.69 , 0.7  , 0.707, 0.702, 0.699, 0.723, 0.67 , 0.702,\n",
              "       0.713, 0.721, 0.689, 0.711, 0.697, 0.717, 0.691, 0.731, 0.697,\n",
              "       0.722, 0.728])"
            ]
          },
          "metadata": {},
          "execution_count": 136
        }
      ]
    },
    {
      "cell_type": "markdown",
      "source": [
        "Finding the largest and smallest frequency values"
      ],
      "metadata": {
        "id": "cwFcsqIZ-RYn"
      }
    },
    {
      "cell_type": "code",
      "source": [
        "min_freq = frequency_array.min() \n",
        "max_freq = frequency_array.max() \n",
        "print(f\"Minimum frequency observed: {min_freq}\") \n",
        "print(f\"Maximum frequency observed: {max_freq}\") \n",
        "print(f\"Difference across frequency range: {max_freq - min_freq}\")\n"
      ],
      "metadata": {
        "colab": {
          "base_uri": "https://localhost:8080/"
        },
        "id": "wv_qUq9b9vlF",
        "outputId": "6a9d3daf-7dec-4a6c-df64-0374cdc50b23"
      },
      "execution_count": 137,
      "outputs": [
        {
          "output_type": "stream",
          "name": "stdout",
          "text": [
            "Minimum frequency observed: 0.656\n",
            "Maximum frequency observed: 0.733\n",
            "Difference across frequency range: 0.07699999999999996\n"
          ]
        }
      ]
    },
    {
      "cell_type": "markdown",
      "source": [
        "Plotting a frequency histogram using plt.hist"
      ],
      "metadata": {
        "id": "ujv194jx-UWw"
      }
    },
    {
      "cell_type": "code",
      "source": [
        "plt.hist(frequency_array, bins='auto', edgecolor='black') \n",
        "plt.xlabel('Binned Frequency') \n",
        "plt.ylabel('Count') \n",
        "plt.show()"
      ],
      "metadata": {
        "colab": {
          "base_uri": "https://localhost:8080/",
          "height": 279
        },
        "id": "9ob6OXiV-WP1",
        "outputId": "81c806f2-ce23-442c-c18b-d3f2b2016af8"
      },
      "execution_count": 138,
      "outputs": [
        {
          "output_type": "display_data",
          "data": {
            "text/plain": [
              "<Figure size 432x288 with 1 Axes>"
            ],
            "image/png": "[encoded data removed]"
          },
          "metadata": {
            "needs_background": "light"
          }
        }
      ]
    },
    {
      "cell_type": "code",
      "source": [
        "#counting bins in a plotted histogram\n",
        "counts, bin_edges, _ = plt.hist(frequency_array, bins='auto', edgecolor='black') \n",
        "print(f\"Number of Bins: {counts.size}\")\n",
        "\n",
        "bin_width = bin_edges[1] - bin_edges[0] \n",
        "print(f\"Bin width: {bin_width}\")"
      ],
      "metadata": {
        "colab": {
          "base_uri": "https://localhost:8080/",
          "height": 300
        },
        "id": "k1NLDzTG_k5W",
        "outputId": "3fc1e77d-1a90-46dc-f6fd-ab95ff26b698"
      },
      "execution_count": 139,
      "outputs": [
        {
          "output_type": "stream",
          "name": "stdout",
          "text": [
            "Number of Bins: 16\n",
            "Bin width: 0.004812499999999997\n"
          ]
        },
        {
          "output_type": "display_data",
          "data": {
            "text/plain": [
              "<Figure size 432x288 with 1 Axes>"
            ],
            "image/png": "[encoded data removed]"
          },
          "metadata": {
            "needs_background": "light"
          }
        }
      ]
    },
    {
      "cell_type": "code",
      "source": [
        "#Getting a bin's frequency and size\n",
        "def output_bin_coverage(i): \n",
        "  count = int(counts[i]) \n",
        "  range_start, range_end = bin_edges[i], bin_edges[i+1] \n",
        "  range_string = f\"{range_start} - {range_end}\" \n",
        "  print((f\"The bin for frequency range {range_string} contains \" f\"{count} element{'' if count == 1 else 's'}\"))\n",
        "\n",
        "\n",
        "output_bin_coverage(0)\n",
        "output_bin_coverage(5)\n",
        "output_bin_coverage(counts.argmax())"
      ],
      "metadata": {
        "colab": {
          "base_uri": "https://localhost:8080/"
        },
        "id": "Z2j_uKwNAiXR",
        "outputId": "47e4d9e9-01e5-4679-93ef-ab73ed10998f"
      },
      "execution_count": 140,
      "outputs": [
        {
          "output_type": "stream",
          "name": "stdout",
          "text": [
            "The bin for frequency range 0.656 - 0.6608125 contains 1 element\n",
            "The bin for frequency range 0.6800625 - 0.684875 contains 20 elements\n",
            "The bin for frequency range 0.6945 - 0.6993125 contains 72 elements\n"
          ]
        }
      ]
    },
    {
      "cell_type": "markdown",
      "source": [
        "Plotting a histogram’s relative likelihoods"
      ],
      "metadata": {
        "id": "Jegx9lDFAhpl"
      }
    },
    {
      "cell_type": "code",
      "source": [
        "likelihoods, bin_edges, _ = plt.hist(frequency_array, bins='auto', edgecolor='black', density=True) \n",
        "plt.xlabel('Binned Frequency') \n",
        "plt.ylabel('Relative Likelihood') \n",
        "plt.show()"
      ],
      "metadata": {
        "colab": {
          "base_uri": "https://localhost:8080/",
          "height": 279
        },
        "id": "8TOI4aH0CDrw",
        "outputId": "a002a69f-2cd4-44fa-e924-66a68d00ffd3"
      },
      "execution_count": 141,
      "outputs": [
        {
          "output_type": "display_data",
          "data": {
            "text/plain": [
              "<Figure size 432x288 with 1 Axes>"
            ],
            "image/png": "[encoded data removed]"
          },
          "metadata": {
            "needs_background": "light"
          }
        }
      ]
    },
    {
      "cell_type": "code",
      "source": [
        "likelihoods.sum() * bin_width"
      ],
      "metadata": {
        "colab": {
          "base_uri": "https://localhost:8080/"
        },
        "id": "f7twEIJSCfZV",
        "outputId": "cf37c9a1-6ac8-4287-cf64-be55737822c8"
      },
      "execution_count": 142,
      "outputs": [
        {
          "output_type": "execute_result",
          "data": {
            "text/plain": [
              "1.0"
            ]
          },
          "metadata": {},
          "execution_count": 142
        }
      ]
    },
    {
      "cell_type": "code",
      "source": [
        "# Plotting a histogram’s relative likelihoods\n",
        "\n",
        "index = likelihoods.argmax() \n",
        "area = likelihoods[index] * bin_width \n",
        "range_start, range_end = bin_edges[index], bin_edges[index+1] \n",
        "range_string = f\"{range_start} - {range_end}\" \n",
        "print(f\"Sampled frequency falls within interval {range_string} with probability {area}\")"
      ],
      "metadata": {
        "colab": {
          "base_uri": "https://localhost:8080/"
        },
        "id": "aFzi8LTfHaUg",
        "outputId": "ce4291ab-cf96-458b-e25f-1d999279b522"
      },
      "execution_count": 143,
      "outputs": [
        {
          "output_type": "stream",
          "name": "stdout",
          "text": [
            "Sampled frequency falls within interval 0.6945 - 0.6993125 with probability 0.144\n"
          ]
        }
      ]
    },
    {
      "cell_type": "code",
      "source": [
        "# Increasing the probability of a frequency range \n",
        "peak_index = likelihoods.argmax() \n",
        "start_index, end_index = (peak_index - 1, peak_index + 2) \n",
        "area = likelihoods[start_index: end_index + 1].sum() * bin_width \n",
        "range_start, range_end = bin_edges[start_index], bin_edges[end_index] \n",
        "range_string = f\"{range_start} - {range_end}\" \n",
        "print(f\"Sampled frequency falls within interval {range_string} with probability {area}\") "
      ],
      "metadata": {
        "colab": {
          "base_uri": "https://localhost:8080/"
        },
        "id": "R_euSS86IC8U",
        "outputId": "032a9007-8fca-4a53-e74f-050fba105d02"
      },
      "execution_count": 144,
      "outputs": [
        {
          "output_type": "stream",
          "name": "stdout",
          "text": [
            "Sampled frequency falls within interval 0.6896875 - 0.704125 with probability 0.464\n"
          ]
        }
      ]
    },
    {
      "cell_type": "markdown",
      "source": [
        "Computing a high confidence interval"
      ],
      "metadata": {
        "id": "6ZJI-QayIfGL"
      }
    },
    {
      "cell_type": "code",
      "source": [
        "def compute_high_confidence_interval(likelihoods, bin_width): \n",
        "  peak_index = likelihoods.argmax() \n",
        "  area = likelihoods[peak_index] * bin_width \n",
        "  start_index, end_index = peak_index, peak_index + 1 \n",
        "  while area < 0.95: \n",
        "    if start_index > 0: \n",
        "      start_index -= 1 \n",
        "    if end_index < likelihoods.size - 1: \n",
        "      end_index += 1 \n",
        "        \n",
        "    area = likelihoods[start_index: end_index + 1].sum() * bin_width \n",
        "  \n",
        "  range_start, range_end = bin_edges[start_index], bin_edges[end_index] \n",
        "  range_string = f\"{range_start:.6f} - {range_end:.6f}\" \n",
        "  print((f\"The frequency range {range_string} represents a \" f\"{100 * area:.2f}% confidence interval\")) \n",
        "  return start_index, end_index \n",
        "        \n",
        "compute_high_confidence_interval(likelihoods, bin_width)"
      ],
      "metadata": {
        "colab": {
          "base_uri": "https://localhost:8080/"
        },
        "id": "5H_5AVa2Ig06",
        "outputId": "d21d8b01-6cb9-49a3-ab50-d532c0ecb5ee"
      },
      "execution_count": 145,
      "outputs": [
        {
          "output_type": "stream",
          "name": "stdout",
          "text": [
            "The frequency range 0.670438 - 0.723375 represents a 95.40% confidence interval\n"
          ]
        },
        {
          "output_type": "execute_result",
          "data": {
            "text/plain": [
              "(3, 14)"
            ]
          },
          "metadata": {},
          "execution_count": 145
        }
      ]
    },
    {
      "cell_type": "markdown",
      "source": [
        "Shrinking the range of a high confidence interval"
      ],
      "metadata": {
        "id": "00st80gKKH07"
      }
    },
    {
      "cell_type": "code",
      "source": [
        "np.random.seed(0) \n",
        "head_count_array = np.random.binomial(1000, 0.7, 100000) \n",
        "frequency_array = head_count_array / 1000"
      ],
      "metadata": {
        "id": "ek4d1ar4KHUX"
      },
      "execution_count": 146,
      "outputs": []
    },
    {
      "cell_type": "code",
      "source": [
        "likelihoods, bin_edges, patches = plt.hist(frequency_array, bins='auto', \n",
        "                                           edgecolor='black', density=True)\n",
        "\n",
        "bin_width = bin_edges[1] - bin_edges[0]\n",
        "start_index, end_index = compute_high_confidence_interval(likelihoods, bin_width)\n",
        "\n",
        "for i in range(start_index, end_index):\n",
        "  patches[i].set_facecolor('yellow')\n",
        "plt.xlabel('Binned Frequency') \n",
        "plt.ylabel('Relative Likelihood') \n",
        "plt.show()\n",
        "\n",
        "\n"
      ],
      "metadata": {
        "colab": {
          "base_uri": "https://localhost:8080/",
          "height": 296
        },
        "id": "PGLI1TzcKyIs",
        "outputId": "6b36c231-1954-46a6-b80b-fc5d24bb57b9"
      },
      "execution_count": 147,
      "outputs": [
        {
          "output_type": "stream",
          "name": "stdout",
          "text": [
            "The frequency range 0.670429 - 0.727857 represents a 95.42% confidence interval\n"
          ]
        },
        {
          "output_type": "display_data",
          "data": {
            "text/plain": [
              "<Figure size 432x288 with 1 Axes>"
            ],
            "image/png": "[encoded data removed]"
          },
          "metadata": {
            "needs_background": "light"
          }
        }
      ]
    },
    {
      "cell_type": "markdown",
      "source": [
        "Sampling 5 billion flipped coins"
      ],
      "metadata": {
        "id": "bRCmUTYVO3IW"
      }
    },
    {
      "cell_type": "code",
      "source": [
        "np.random.seed(0) \n",
        "head_count_array = np.random.binomial(50000, 0.7, 100000) \n",
        "frequency_array = head_count_array / 50000 \n",
        "likelihoods, bin_edges, patches = plt.hist(frequency_array, bins='auto', edgecolor='black', density=True) \n",
        "bin_width = bin_edges[1] - bin_edges[0] \n",
        "start_index, end_index = compute_high_confidence_interval(likelihoods, bin_width) \n",
        "for i in range(start_index, end_index): \n",
        "  patches[i].set_facecolor('yellow') \n",
        "plt.xlabel('Binned Frequency') \n",
        "plt.ylabel('Relative Likelihood') \n",
        "plt.show()"
      ],
      "metadata": {
        "colab": {
          "base_uri": "https://localhost:8080/",
          "height": 296
        },
        "id": "3QN_jxJWOyqC",
        "outputId": "75d14783-6606-44c1-ae60-58b5b84d1734"
      },
      "execution_count": 148,
      "outputs": [
        {
          "output_type": "stream",
          "name": "stdout",
          "text": [
            "The frequency range 0.695769 - 0.703708 represents a 95.06% confidence interval\n"
          ]
        },
        {
          "output_type": "display_data",
          "data": {
            "text/plain": [
              "<Figure size 432x288 with 1 Axes>"
            ],
            "image/png": "[encoded data removed]"
          },
          "metadata": {
            "needs_background": "light"
          }
        }
      ]
    },
    {
      "cell_type": "markdown",
      "source": [
        "Computing a histogram using np.histogram and excluding the visual"
      ],
      "metadata": {
        "id": "rIVJSB7hP4_e"
      }
    },
    {
      "cell_type": "code",
      "source": [
        "np.random.seed(0) \n",
        "likelihoods, bin_edges = np.histogram(frequency_array, bins='auto', density=True) \n",
        "bin_width = bin_edges[1] - bin_edges[0] \n",
        "compute_high_confidence_interval(likelihoods, bin_width)"
      ],
      "metadata": {
        "colab": {
          "base_uri": "https://localhost:8080/"
        },
        "id": "o5PWI9fWP6oR",
        "outputId": "925f7421-1b16-4365-d891-630300efb43b"
      },
      "execution_count": 149,
      "outputs": [
        {
          "output_type": "stream",
          "name": "stdout",
          "text": [
            "The frequency range 0.695769 - 0.703708 represents a 95.06% confidence interval\n"
          ]
        },
        {
          "output_type": "execute_result",
          "data": {
            "text/plain": [
              "(47, 114)"
            ]
          },
          "metadata": {},
          "execution_count": 149
        }
      ]
    },
    {
      "cell_type": "markdown",
      "source": [
        "Predicting red cards in a shuffled deck"
      ],
      "metadata": {
        "id": "-mhrRqQCwAPa"
      }
    },
    {
      "cell_type": "markdown",
      "source": [
        "Modeling a 52-card deck"
      ],
      "metadata": {
        "id": "gh_Y0NdhviyZ"
      }
    },
    {
      "cell_type": "code",
      "source": [
        "red_cards = 26 * [1]\n",
        "black_cards = 26 * [0]\n",
        "unshuffled_deck = red_cards + black_cards "
      ],
      "metadata": {
        "id": "_7F-40vHvjHJ"
      },
      "execution_count": 150,
      "outputs": []
    },
    {
      "cell_type": "markdown",
      "source": [
        "Shuffling a 52-card deck"
      ],
      "metadata": {
        "id": "9Crgi0_cwF3A"
      }
    },
    {
      "cell_type": "code",
      "source": [
        "np.random.seed(1)\n",
        "shuffled_deck = np.random.permutation(unshuffled_deck)"
      ],
      "metadata": {
        "id": "uQhjDioXwJHW"
      },
      "execution_count": 162,
      "outputs": []
    },
    {
      "cell_type": "markdown",
      "source": [
        "Coding a card game strategy"
      ],
      "metadata": {
        "id": "UsdGzX3fwv1P"
      }
    },
    {
      "cell_type": "code",
      "source": [
        "remaining_red_cards = 26\n",
        "for i, card in enumerate(shuffled_deck[:-1]):\n",
        "  remaining_red_cards -= card\n",
        "  remaining_total_cards = 52 - i - 1\n",
        "  if remaining_red_cards / remaining_total_cards > 0.5:\n",
        "    break \n",
        "\n",
        "print(f\"Stopping the game at index {i}.\") \n",
        "final_card = shuffled_deck[i + 1] \n",
        "color = 'red' if final_card else 0 \n",
        "print(f\"The next card in the deck is {'red' if final_card else 'black'}.\") \n",
        "print(f\"We have {'won' if final_card else 'lost'}!\")\n"
      ],
      "metadata": {
        "colab": {
          "base_uri": "https://localhost:8080/"
        },
        "id": "OFTkOeC3wxjf",
        "outputId": "fc305439-b380-4eea-8902-22c3aeb70216"
      },
      "execution_count": 163,
      "outputs": [
        {
          "output_type": "stream",
          "name": "stdout",
          "text": [
            "Stopping the game at index 0.\n",
            "The next card in the deck is red.\n",
            "We have won!\n"
          ]
        }
      ]
    },
    {
      "cell_type": "markdown",
      "source": [
        "Generalizing the card game strategy"
      ],
      "metadata": {
        "id": "3xHKjxrcyLCp"
      }
    },
    {
      "cell_type": "code",
      "source": [
        "np.random.seed(0) \n",
        "total_cards = 52 \n",
        "total_red_cards = 26 \n",
        "def execute_strategy(min_fraction_red=0.5, shuffled_deck=None, return_index=False): \n",
        "  if shuffled_deck is None: \n",
        "    shuffled_deck = np.random.permutation(unshuffled_deck) \n",
        "  remaining_red_cards = total_red_cards \n",
        "  for i, card in enumerate(shuffled_deck[:-1]): \n",
        "    remaining_red_cards -= card \n",
        "    fraction_red_cards = remaining_red_cards / (total_cards - i - 1) \n",
        "    if fraction_red_cards > min_fraction_red: \n",
        "      break \n",
        "  return (i+1, shuffled_deck[i+1]) if return_index else shuffled_deck[i+1] "
      ],
      "metadata": {
        "id": "PwumiyCNyMqG"
      },
      "execution_count": 164,
      "outputs": []
    },
    {
      "cell_type": "markdown",
      "source": [
        "Running the strategy over 1,000 shuffles"
      ],
      "metadata": {
        "id": "yh-ZLqawyrha"
      }
    },
    {
      "cell_type": "code",
      "source": [
        "observations = np.array([execute_strategy() for _ in range(1000)])"
      ],
      "metadata": {
        "id": "H4rku6eTypIR"
      },
      "execution_count": 165,
      "outputs": []
    },
    {
      "cell_type": "markdown",
      "source": [
        "Computing the frequency of wins"
      ],
      "metadata": {
        "id": "6ypjz47lzCkh"
      }
    },
    {
      "cell_type": "code",
      "source": [
        "frequency_wins = observations.sum() / 1000 \n",
        "assert frequency_wins == observations.mean() \n",
        "print(f\"The frequency of wins is {frequency_wins}\")\n"
      ],
      "metadata": {
        "colab": {
          "base_uri": "https://localhost:8080/"
        },
        "id": "OL36hckyzC2s",
        "outputId": "d90cd6a2-b861-42f3-f2b0-28303967dc95"
      },
      "execution_count": 166,
      "outputs": [
        {
          "output_type": "stream",
          "name": "stdout",
          "text": [
            "The frequency of wins is 0.511\n"
          ]
        }
      ]
    },
    {
      "cell_type": "markdown",
      "source": [
        "Computing total profit"
      ],
      "metadata": {
        "id": "JuSr2SldzTf6"
      }
    },
    {
      "cell_type": "code",
      "source": [
        "dollars_won = frequency_wins * 1000 \n",
        "dollars_lost = (1 - frequency_wins) * 1000 \n",
        "total_profit = dollars_won - dollars_lost \n",
        "print(f\"Total profit is ${total_profit:.2f}\")"
      ],
      "metadata": {
        "colab": {
          "base_uri": "https://localhost:8080/"
        },
        "id": "BDBXWNXrzWt6",
        "outputId": "dda56935-367e-4f83-d451-0aa557b88936"
      },
      "execution_count": 167,
      "outputs": [
        {
          "output_type": "stream",
          "name": "stdout",
          "text": [
            "Total profit is $22.00\n"
          ]
        }
      ]
    },
    {
      "cell_type": "markdown",
      "source": [
        "Plotting simulated frequencies of wins"
      ],
      "metadata": {
        "id": "h0ZxAofizwyi"
      }
    },
    {
      "cell_type": "code",
      "source": [
        "np.random.seed(0) \n",
        "def repeat_game(number_repeats): \n",
        "  observations = np.array([execute_strategy() for _ in range(number_repeats)]) \n",
        "  return observations.mean() \n",
        "\n",
        "frequencies = [] \n",
        "for i in range(1, 1000): \n",
        "  frequencies.append(repeat_game(i))"
      ],
      "metadata": {
        "id": "BNfiXa2tzyXA"
      },
      "execution_count": 168,
      "outputs": []
    },
    {
      "cell_type": "code",
      "source": [
        "plt.plot(list(range(1, 1000)), frequencies) \n",
        "plt.axhline(0.5, color='k') \n",
        "plt.xlabel('Number of Card Shuffles') \n",
        "plt.ylabel('Win-Frequency') \n",
        "plt.show() \n",
        "print(f\"The win-frequency for 10,000 shuffles is {frequencies[-1]}\")"
      ],
      "metadata": {
        "colab": {
          "base_uri": "https://localhost:8080/",
          "height": 296
        },
        "id": "U9_qahLb0BSw",
        "outputId": "d46b8832-be35-4480-ce62-07c3a0fe501d"
      },
      "execution_count": 169,
      "outputs": [
        {
          "output_type": "display_data",
          "data": {
            "text/plain": [
              "<Figure size 432x288 with 1 Axes>"
            ],
            "image/png": "[encoded data removed]"
          },
          "metadata": {
            "needs_background": "light"
          }
        },
        {
          "output_type": "stream",
          "name": "stdout",
          "text": [
            "The win-frequency for 10,000 shuffles is 0.5035035035035035\n"
          ]
        }
      ]
    },
    {
      "cell_type": "markdown",
      "source": [
        "Computing the confidence interval for 3 million shuffles"
      ],
      "metadata": {
        "id": "4ZyuqXDM0alY"
      }
    },
    {
      "cell_type": "code",
      "source": [
        "np.random.seed(0) \n",
        "frequency_array = np.array([repeat_game(10000) for _ in range(300)]) \n",
        "\n",
        "likelihoods, bin_edges, patches = plt.hist(frequency_array, bins='auto', \n",
        "                                           edgecolor='black', density=True) \n",
        "bin_width = bin_edges[1] - bin_edges[0]\n",
        "\n",
        "start_index, end_index = compute_high_confidence_interval(likelihoods, bin_width) \n",
        "for i in range(start_index, end_index): \n",
        "  patches[i].set_facecolor('yellow') \n",
        "plt.xlabel('Binned Frequency') \n",
        "plt.ylabel('Relative Likelihood') \n",
        "plt.show() "
      ],
      "metadata": {
        "colab": {
          "base_uri": "https://localhost:8080/",
          "height": 296
        },
        "id": "DCGwyYK50aBc",
        "outputId": "98786ad4-b1a4-4436-8724-7111c17bdce9"
      },
      "execution_count": 171,
      "outputs": [
        {
          "output_type": "stream",
          "name": "stdout",
          "text": [
            "The frequency range 0.488938 - 0.509494 represents a 97.00% confidence interval\n"
          ]
        },
        {
          "output_type": "display_data",
          "data": {
            "text/plain": [
              "<Figure size 432x288 with 1 Axes>"
            ],
            "image/png": "[encoded data removed]"
          },
          "metadata": {
            "needs_background": "light"
          }
        }
      ]
    },
    {
      "cell_type": "markdown",
      "source": [
        "Computing the confidence interval for 150 million shuffles"
      ],
      "metadata": {
        "id": "82hruw981hle"
      }
    },
    {
      "cell_type": "code",
      "source": [
        "np.random.seed(0) \n",
        "frequency_array = np.array([repeat_game(50000) for _ in range(3000)]) \n",
        "\n",
        "likelihoods, bin_edges = np.histogram(frequency_array, bins='auto', density=True) \n",
        "bin_width = bin_edges[1] - bin_edges[0] \n",
        "compute_high_confidence_interval(likelihoods, bin_width)"
      ],
      "metadata": {
        "id": "N5P0dDlo1g6C"
      },
      "execution_count": null,
      "outputs": []
    },
    {
      "cell_type": "markdown",
      "source": [
        "Optimizing strategies using the sample space for a 10-card deck"
      ],
      "metadata": {
        "id": "gKzr691Y2Mg-"
      }
    },
    {
      "cell_type": "code",
      "source": [
        "import itertools\n",
        "total_cards = 10\n",
        "total_red_cards = int(total_cards / 2)\n",
        "total_black_cards = total_red_cards\n",
        "unshuffled_deck = [1] * total_red_cards + [0] * total_black_cards \n",
        "sample_space = set(itertools.permutations(unshuffled_deck))\n",
        "win_condition = lambda x: execute_strategy(shuffled_deck=np.array(x))\n",
        "prob_win = compute_event_probability(win_condition, sample_space)\n",
        "print(f\"Probability of a win is {prob_win}\")"
      ],
      "metadata": {
        "colab": {
          "base_uri": "https://localhost:8080/"
        },
        "id": "e4LYmZBy2OMD",
        "outputId": "f1dce86b-a5a2-4c6e-f0a0-e155d15e1bbe"
      },
      "execution_count": 173,
      "outputs": [
        {
          "output_type": "stream",
          "name": "stdout",
          "text": [
            "Probability of a win is 0.5\n"
          ]
        }
      ]
    },
    {
      "cell_type": "markdown",
      "source": [
        "Applying multiple strategies to a 10-card deck"
      ],
      "metadata": {
        "id": "NOlZBqEd3u74"
      }
    },
    {
      "cell_type": "code",
      "source": [
        "def scan_strategies(): \n",
        "  fractions = [value / 100 for value in range(50, 100)] \n",
        "  probabilities = [] \n",
        "  for frac in fractions: \n",
        "    win_condition = lambda x: execute_strategy(frac, shuffled_deck=np.array(x)) \n",
        "    probabilities.append(compute_event_probability(win_condition, sample_space)) \n",
        "    return probabilities \n",
        "probabilities = scan_strategies()\n",
        "print(f\"Lowest probability of win is {min(probabilities)}\") \n",
        "print(f\"Highest probability of win is {max(probabilities)}\")\n",
        "\n"
      ],
      "metadata": {
        "colab": {
          "base_uri": "https://localhost:8080/"
        },
        "id": "1VYCkGSz3wkd",
        "outputId": "2cb15a85-af39-44e9-a1d8-d7d30a8a45f6"
      },
      "execution_count": 174,
      "outputs": [
        {
          "output_type": "stream",
          "name": "stdout",
          "text": [
            "Lowest probability of win is 0.5\n",
            "Highest probability of win is 0.5\n"
          ]
        }
      ]
    },
    {
      "cell_type": "markdown",
      "source": [
        "Applying multiple strategies to multiple decks"
      ],
      "metadata": {
        "id": "iKN8F9k44K1l"
      }
    },
    {
      "cell_type": "code",
      "source": [
        "for total_cards in [2, 4, 6, 8]: \n",
        "  total_red_cards = int(total_cards / 2) \n",
        "  total_black_cards = total_red_cards \n",
        "  unshuffled_deck = [1] * total_red_cards + [0] * total_black_cards \n",
        "  sample_space = set(itertools.permutations(unshuffled_deck)) \n",
        "  \n",
        "  probabilities = scan_strategies() \n",
        "  if all(prob == 0.5 for prob in probabilities): \n",
        "    print(f\"No winning strategy found for deck of size {total_cards}\") \n",
        "  else: \n",
        "    print(f\"Winning strategy found for deck of size {total_cards}\")"
      ],
      "metadata": {
        "colab": {
          "base_uri": "https://localhost:8080/"
        },
        "id": "4BwSzMW34N5K",
        "outputId": "1290b194-eede-42cd-856c-1cd7a9385d2c"
      },
      "execution_count": 175,
      "outputs": [
        {
          "output_type": "stream",
          "name": "stdout",
          "text": [
            "No winning strategy found for deck of size 2\n",
            "No winning strategy found for deck of size 4\n",
            "No winning strategy found for deck of size 6\n",
            "No winning strategy found for deck of size 8\n"
          ]
        }
      ]
    },
    {
      "cell_type": "markdown",
      "source": [
        "Plotting strategy outcomes across a 52-card deck"
      ],
      "metadata": {
        "id": "sxGRtvnh5Okk"
      }
    },
    {
      "cell_type": "code",
      "source": [
        "np.random.seed(0)\n",
        "total_cards = 52 \n",
        "total_red_cards = 26 \n",
        "unshuffled_deck = red_cards + black_cards \n",
        "def repeat_game_detailed(number_repeats, min_red_fraction): \n",
        "  observations = [execute_strategy(min_red_fraction, return_index=True) for _ in range(num_repeats)] \n",
        "  \n",
        "  successes = [index for index, card, in observations if card == 1] \n",
        "  halt_success = len([index for index in successes if index != 51]) \n",
        "  no_halt_success = len(successes) - halt_success \n",
        "  failures = [index for index, card, in observations if card == 0] \n",
        "  halt_failure = len([index for index in failures if index != 51]) \n",
        "  no_halt_failure = len(failures) - halt_failure \n",
        "  result = [halt_success, halt_failure, no_halt_success, no_halt_failure] \n",
        "  return [r / number_repeats for r in result] \n",
        "\n",
        "fractions = [value / 100 for value in range(50, 100)] \n",
        "num_repeats = 50000 \n",
        "result_types = [[], [], [], []] \n",
        "for fraction in fractions: \n",
        "  result = repeat_game_detailed(num_repeats, fraction) \n",
        "  for i in range(4): \n",
        "    result_types[i].append(result[i]) \n",
        "plt.plot(fractions, result_types[0], label='A) Strategy Halts. We Win.') \n",
        "plt.plot(fractions, result_types[1], linestyle='--', label='B) Strategy Halts. We Lose.') \n",
        "plt.plot(fractions, result_types[2], linestyle=':', label='C) No Halt. We Win.') \n",
        "plt.plot(fractions, result_types[3], linestyle='-.', label='D) No Halt. We Lose.') \n",
        "plt.xlabel('min_red_fraction') \n",
        "plt.ylabel('Frequency') \n",
        "plt.legend(bbox_to_anchor=(1.0, 0.5)) \n",
        "plt.show()\n"
      ],
      "metadata": {
        "colab": {
          "base_uri": "https://localhost:8080/",
          "height": 280
        },
        "id": "T43xfT735RaY",
        "outputId": "01e546b2-f54d-439b-dba6-7c3f89a5950f"
      },
      "execution_count": 176,
      "outputs": [
        {
          "output_type": "display_data",
          "data": {
            "text/plain": [
              "<Figure size 432x288 with 1 Axes>"
            ],
            "image/png": "[encoded data removed]"
          },
          "metadata": {
            "needs_background": "light"
          }
        }
      ]
    }
  ]
}